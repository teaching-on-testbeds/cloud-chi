{
 "cells": [
  {
   "cell_type": "markdown",
   "metadata": {},
   "source": [
    "## Delete resources\n",
    "\n",
    "When we are finished with the experiment, we delete resources to free them for others.\n",
    "\n",
    "We will use the Horizon GUI again. To access this interface,\n",
    "\n",
    "-   from the [Chameleon website](https://chameleoncloud.org/hardware/)\n",
    "-   click “Experiment” \\> “KVM@TACC”\n",
    "-   log in if prompted to do so\n",
    "-   check the project drop-down menu near the top left (which shows e.g. “CHI-XXXXXX”), and make sure the correct project is selected.\n",
    "\n",
    "Then, delete resources in *exactly* this order:\n",
    "\n",
    "-   First, click on Network \\> Floating IPs. In any row that includes your net ID in the “Mapped Fixed IP Address” column, click “Disassociate”, then “Release Floating IP”. Wait until this is finished.\n",
    "-   Next, click on Compute \\> Instances. Check the box next to any instance(s) that include your net ID. Then, click “Delete Instances”. Wait until this is finished.\n",
    "-   Click on Network \\> Networks. Check the box next to any network(s) that include your net ID. Then, click “Delete Networks”. Wait until this is finished."
   ]
  }
 ],
 "nbformat": 4,
 "nbformat_minor": 4,
 "metadata": {
  "kernelspec": {
   "name": "bash",
   "display_name": "Bash",
   "language": "bash"
  },
  "language_info": {
   "name": "bash",
   "codemirror_mode": "shell",
   "file_extension": ".sh",
   "mimetype": "shell"
  }
 }
}
